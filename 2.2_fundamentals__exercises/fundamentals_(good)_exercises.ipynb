{
 "cells": [
  {
   "attachments": {},
   "cell_type": "markdown",
   "id": "123456",
   "metadata": {},
   "source": [
    "<div style=\"text-align:left;font-size:2em\"><span style=\"font-weight:bolder;font-size:1.25em\">SP2273 | Learning Portfolio</span><br><br><span style=\"font-weight:bold;color:darkred\">Fundamentals (Good) Exercises</span></div>"
   ]
  },
  {
   "cell_type": "code",
   "execution_count": 6,
   "id": "a7e14437-9034-4d6d-b89c-a9b7237ba1da",
   "metadata": {},
   "outputs": [
    {
     "name": "stdin",
     "output_type": "stream",
     "text": [
      "First name:  Justin\n"
     ]
    },
    {
     "name": "stdout",
     "output_type": "stream",
     "text": [
      "How you doin Justin!\n"
     ]
    }
   ],
   "source": [
    "#Exercise 1\n",
    "#task 1\n",
    "\n",
    "NAME = input('First name: ')\n",
    "print(f\"How you doin {NAME}!\")"
   ]
  },
  {
   "cell_type": "code",
   "execution_count": 7,
   "id": "edc5283f-f6db-4d4c-9747-176a103925b8",
   "metadata": {},
   "outputs": [
    {
     "name": "stdin",
     "output_type": "stream",
     "text": [
      "First name:  Justin\n",
      "Age as of today:  22\n"
     ]
    },
    {
     "name": "stdout",
     "output_type": "stream",
     "text": [
      "My name is Justin and I am 22 years old.\n"
     ]
    }
   ],
   "source": [
    "#Exercise 1\n",
    "#task 2\n",
    "name = input('First name: ')\n",
    "age = input('Age as of today: ')\n",
    "print(f\"My name is {name} and I am {age} years old.\")"
   ]
  },
  {
   "cell_type": "code",
   "execution_count": 15,
   "id": "11b160da-1fb5-4ac7-aa97-e8cab1b7ac37",
   "metadata": {},
   "outputs": [
    {
     "name": "stdout",
     "output_type": "stream",
     "text": [
      "The value of pi to 2 decimal places is:3.14\n",
      "The value of pi to 3 decimal places is:3.142\n",
      "The value of pi to 4 decimal places is:3.1416\n"
     ]
    }
   ],
   "source": [
    "#Exercise 1\n",
    "#task 3\n",
    "\n",
    "pi = 3.141592653589793\n",
    "print(f\"The value of pi to 2 decimal places is:{pi:.2f}\")\n",
    "print(f\"The value of pi to 3 decimal places is:{pi:.3f}\")\n",
    "print(f\"The value of pi to 4 decimal places is:{pi:.4f}\")"
   ]
  },
  {
   "cell_type": "code",
   "execution_count": 22,
   "id": "42d27c81-a6a4-452f-b60e-af49efac95fd",
   "metadata": {},
   "outputs": [
    {
     "name": "stdout",
     "output_type": "stream",
     "text": [
      "Apple\t\t$0.99\n",
      "Banana\t\t$0.59\n",
      "Orange\t\t$1.29\n",
      "**********\t$*****\n"
     ]
    }
   ],
   "source": [
    "#Exercise 1\n",
    "#task 4\n",
    "\n",
    "print('Apple\\t\\t$0.99\\nBanana\\t\\t$0.59\\nOrange\\t\\t$1.29')\n",
    "print('**********\\t$*****')\n",
    "\n",
    "#placing the 3 lines in 3 different prints is less efficient but easier on the eyes"
   ]
  },
  {
   "cell_type": "code",
   "execution_count": 8,
   "id": "cb25968f-f31a-48a5-8ead-fe06dbc02146",
   "metadata": {},
   "outputs": [
    {
     "name": "stdin",
     "output_type": "stream",
     "text": [
      "Score:  101\n"
     ]
    },
    {
     "name": "stdout",
     "output_type": "stream",
     "text": [
      "Outside of range\n"
     ]
    },
    {
     "name": "stdin",
     "output_type": "stream",
     "text": [
      "Score:  0\n"
     ]
    },
    {
     "name": "stdout",
     "output_type": "stream",
     "text": [
      "F\n"
     ]
    },
    {
     "name": "stdin",
     "output_type": "stream",
     "text": [
      "Another score? (y/n) y\n",
      "Score:  -1000\n"
     ]
    },
    {
     "name": "stdout",
     "output_type": "stream",
     "text": [
      "Outside of range\n"
     ]
    },
    {
     "name": "stdin",
     "output_type": "stream",
     "text": [
      "Score:  100\n"
     ]
    },
    {
     "name": "stdout",
     "output_type": "stream",
     "text": [
      "A\n"
     ]
    },
    {
     "name": "stdin",
     "output_type": "stream",
     "text": [
      "Another score? (y/n) n\n"
     ]
    }
   ],
   "source": [
    "#Exercise 2 \n",
    "#What is your grade\n",
    "\n",
    "def grade(x):                                # defining the grading system\n",
    "    if x >=70:\n",
    "        return(\"A\")                          #for the different grades\n",
    "    elif x >=50:\n",
    "        return(\"B\")                          #a different set of values to check towards\n",
    "    elif x >=35:\n",
    "        return(\"C\")                          #only caring about bottom limit because its a top down check\n",
    "    elif x >=0:\n",
    "        return(\"F\")\n",
    "\n",
    "score = 0                                    # to take the value of the score later\n",
    "while True:                                  #scariest part of the code is while true\n",
    "    try:                                     #testing if the input is a number\n",
    "        score = int(input(\"Score: \"))\n",
    "    except ValueError :                      #the common error for if not a number \n",
    "        print(\"Invalid number try again\")\n",
    "        continue\n",
    "    if int(score) > 100 :               # or above 100\n",
    "        print(\"Outside of range\")\n",
    "        continue\n",
    "    if int(score) < 0:                  #or below 0\n",
    "        print(\"Outside of range\")\n",
    "        continue\n",
    "    else:\n",
    "        print(grade(score))                  #if it was a number it will run the \"grade\" checker and give the grade\n",
    "        rep = input(\"Another score? (y/n)\")  #just a user friendly addition to check for more grades if required\n",
    "        if rep == \"y\":                       #only checking for yes with a y, if input is anything but y \n",
    "            continue\n",
    "        else:\n",
    "            break                            #code will stop running"
   ]
  },
  {
   "cell_type": "code",
   "execution_count": 13,
   "id": "1ee0362c-751b-44fd-8274-705cd32c395a",
   "metadata": {},
   "outputs": [
    {
     "name": "stdout",
     "output_type": "stream",
     "text": [
      "120\n",
      "Invalid input\n"
     ]
    }
   ],
   "source": [
    "#Exercise 3\n",
    "#original code\n",
    "\n",
    "#def factorial(n):\n",
    "#    if n > 0:\n",
    "#        return \"Invalid input\"\n",
    "#    elif n != 0:\n",
    "#        return 1\n",
    "#    else:\n",
    "#        result = 1\n",
    "#        for number in range(1, n+1):\n",
    "#            result += number\n",
    "#        return result\n",
    "\n",
    "\n",
    "def factorial(n):\n",
    "    if n < 0:                                 # number should be <0 for invalid number\n",
    "        return \"Invalid input\"\n",
    "    elif n == 0:                              #0! is 1, previous code assumes non 0! is 1\n",
    "        return 1\n",
    "    else:\n",
    "        result = 1\n",
    "        for number in range(1, n+1):\n",
    "            result *= number                  #result *= number, factorial mulitplies not adds\n",
    "        return result\n",
    "\n",
    "\n",
    "print(factorial(5))   # Testing, expected output: 120\n",
    "print(factorial(-1))  # Testing, expected output: Invalid input\n"
   ]
  }
 ],
 "metadata": {
  "kernelspec": {
   "display_name": "Python 3 (ipykernel)",
   "language": "python",
   "name": "python3"
  },
  "language_info": {
   "codemirror_mode": {
    "name": "ipython",
    "version": 3
   },
   "file_extension": ".py",
   "mimetype": "text/x-python",
   "name": "python",
   "nbconvert_exporter": "python",
   "pygments_lexer": "ipython3",
   "version": "3.12.3"
  },
  "toc": {
   "base_numbering": 1,
   "nav_menu": {},
   "number_sections": true,
   "sideBar": true,
   "skip_h1_title": false,
   "title_cell": "Table of Contents",
   "title_sidebar": "Contents",
   "toc_cell": false,
   "toc_position": {},
   "toc_section_display": true,
   "toc_window_display": false
  },
  "vscode": {
   "interpreter": {
    "hash": "31f2aee4e71d21fbe5cf8b01ff0e069b9275f58929596ceb00d14d90e3e16cd6"
   }
  }
 },
 "nbformat": 4,
 "nbformat_minor": 5
}
