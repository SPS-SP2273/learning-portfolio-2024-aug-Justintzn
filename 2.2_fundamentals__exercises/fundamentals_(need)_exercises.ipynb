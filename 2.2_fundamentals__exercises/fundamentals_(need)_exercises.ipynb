{
 "cells": [
  {
   "attachments": {},
   "cell_type": "markdown",
   "id": "123456",
   "metadata": {},
   "source": [
    "<div style=\"text-align:left;font-size:2em\"><span style=\"font-weight:bolder;font-size:1.25em\">SP2273 | Learning Portfolio</span><br><br><span style=\"font-weight:bold;color:darkred\">Fundamentals (Need) Exercises</span></div>"
   ]
  },
  {
   "cell_type": "markdown",
   "id": "6c26766d-b896-42de-9f7f-946fb1c22a15",
   "metadata": {},
   "source": [
    "# Exercise 1\n",
    "\n",
    "Features of python\n",
    "\n",
    "1. Python has functions\n",
    "2. Python is case sensitive\n",
    "3. Python allows comments with a \"#\" for better annotation\n",
    "4. Python differentiates between equal and is equal to \"=\" vs \"==\" one is a set and the other is a logic test\n",
    "5. Python is indent and space sensitive\n",
    "6. apostrophe helps to differentiate between a name and a variable\n",
    "7. different brackets do different things\n",
    "8. packages gives more utility to python with things like math and numpy\n",
    "9. the full stop or dot in python means it belongs to a certain package like sqrt in math is math.sqrt()\n",
    "\n",
    "_1. Python is interpreted_\n",
    "\n",
    "_2. if is used for decision making_"
   ]
  },
  {
   "cell_type": "code",
   "execution_count": 1,
   "id": "eef71ec2-15ba-49d1-9c9c-11a6232f894b",
   "metadata": {},
   "outputs": [
    {
     "name": "stdout",
     "output_type": "stream",
     "text": [
      "3 4 5.0\n"
     ]
    }
   ],
   "source": [
    "#Exercise 2\n",
    "\n",
    "##x, y = 3, 4\n",
    "##        z = sqrt(x*2 + y**2)\n",
    "##    Print(x, y, z)\n",
    "#original code\n",
    "\n",
    "import math                 #imported for squareroot\n",
    "x, y = 3, 4                  \n",
    "z = math.sqrt(x**2 + y**2)   #fixed indentation and input math. for the sqrt() \n",
    "print(x, y, z)              #fixed indentation and case sensitivity for \"print\""
   ]
  },
  {
   "cell_type": "markdown",
   "id": "c78c5d51-195d-4033-b20c-b42559e8d730",
   "metadata": {},
   "source": [
    "# Exercise 3\n",
    "\n",
    "| #    | term    |    Description |\n",
    "| :--- | :--: | ---: |\n",
    "| 1   |  Function  | Performs a task as definied either by system or by \"def\", recieves an input and produces an output |\n",
    "| 2   |  Arguments  | A value given to functions as an input |\n",
    "| 3   |  Comments  |  Annotations denoted with a \"#\" to make code more readable and understandable by other coders |\n",
    "| 4   |  Indentations  | The amount of spaces present at the beginning of a line |\n",
    "| 5   |  Packages  |  Contains a number of functions that are defined for specific use |\n",
    "| 6   |  .  |   denotes ownership of the function and either calls upon the function for use or uses the function on the argument |\n",
    "| 7   |  :  |  indicates a new group of code to be run together, usually followed by an indentation |\n",
    "| 8   |  []  |  used to indicate a list |\n",
    "| 9   |  [[],[]]  |   a second dimension list or a list of lists |\n",
    "| 10   |  {}  |   used to create a dictionary where multiple arguments are given different values |"
   ]
  },
  {
   "cell_type": "code",
   "execution_count": 2,
   "id": "bfa17938-c694-4912-9f23-d3390c5329b9",
   "metadata": {},
   "outputs": [
    {
     "name": "stdout",
     "output_type": "stream",
     "text": [
      "2.5\n",
      "/ divides the numerator by denominator, a simple division\n",
      "2\n",
      "// divides the numerator by denominator then rounds down to the nearest whole number, a floor divide\n",
      "1\n",
      "% finds the remainder after the numberator is divided by denominator, modulus of a number, or remainder\n"
     ]
    }
   ],
   "source": [
    "#Exercise 4\n",
    "print(5/2) \n",
    "print(\"/ divides the numerator by denominator, a simple division\")\n",
    "\n",
    "print(5//2)\n",
    "print(\"// divides the numerator by denominator then rounds down to the nearest whole number, a floor divide\")\n",
    "\n",
    "print(5%2)\n",
    "print(\"% finds the remainder after the numberator is divided by denominator, modulus of a number, or remainder\")"
   ]
  }
 ],
 "metadata": {
  "kernelspec": {
   "display_name": "Python 3 (ipykernel)",
   "language": "python",
   "name": "python3"
  },
  "language_info": {
   "codemirror_mode": {
    "name": "ipython",
    "version": 3
   },
   "file_extension": ".py",
   "mimetype": "text/x-python",
   "name": "python",
   "nbconvert_exporter": "python",
   "pygments_lexer": "ipython3",
   "version": "3.12.3"
  },
  "toc": {
   "base_numbering": 1,
   "nav_menu": {},
   "number_sections": true,
   "sideBar": true,
   "skip_h1_title": false,
   "title_cell": "Table of Contents",
   "title_sidebar": "Contents",
   "toc_cell": false,
   "toc_position": {},
   "toc_section_display": true,
   "toc_window_display": false
  },
  "vscode": {
   "interpreter": {
    "hash": "31f2aee4e71d21fbe5cf8b01ff0e069b9275f58929596ceb00d14d90e3e16cd6"
   }
  }
 },
 "nbformat": 4,
 "nbformat_minor": 5
}
