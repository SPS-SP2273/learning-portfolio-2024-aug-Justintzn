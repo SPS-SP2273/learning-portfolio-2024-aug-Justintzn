{
 "cells": [
  {
   "attachments": {},
   "cell_type": "markdown",
   "id": "123456",
   "metadata": {},
   "source": [
    "<div style=\"text-align:left;font-size:2em\"><span style=\"font-weight:bolder;font-size:1.25em\">SP2273 | Learning Portfolio</span><br><br><span style=\"font-weight:bold;color:darkred\">Functions (Good) Exercises</span></div>"
   ]
  },
  {
   "cell_type": "code",
   "execution_count": 26,
   "id": "2eee518b-c5c1-4dcc-b9b0-fb271e0eb1eb",
   "metadata": {},
   "outputs": [
    {
     "name": "stdin",
     "output_type": "stream",
     "text": [
      "Input temperature:  0\n",
      "K or F  K\n"
     ]
    },
    {
     "name": "stdout",
     "output_type": "stream",
     "text": [
      "0°C is 273.15°K\n"
     ]
    }
   ],
   "source": [
    "#exercise 1\n",
    "\n",
    "def sym(x):                                     #created for ease of use when user inputs scale\n",
    "    if x == \"F\":\n",
    "        return(\"Fahrenheit\")\n",
    "    elif x == \"K\":\n",
    "        return(\"Kelvin\")\n",
    "\n",
    "\n",
    "def convert_celsius(temperature_celsius,target_scale = \"Fahrenheit\"):\n",
    "    temp = 0\n",
    "    if target_scale == \"Kelvin\":\n",
    "        temp = float(temperature_celsius) + 273.15                 #k = c + 275.15\n",
    "        return temp\n",
    "    else:\n",
    "        temp = float(temperature_celsius)*(9/5)+32                 #f = c*(9/5)+32\n",
    "        return temp\n",
    "\n",
    "\n",
    "temp = input(\"Input temperature: \")\n",
    "scale = input(\"K or F \")\n",
    "\n",
    "print(f'{temp}°C is {convert_celsius(temp,sym(scale))}°{scale}')         #printing a pretty statement "
   ]
  },
  {
   "cell_type": "code",
   "execution_count": 28,
   "id": "633003b8-ab75-4330-b8af-c515b3474c6f",
   "metadata": {},
   "outputs": [
    {
     "name": "stdin",
     "output_type": "stream",
     "text": [
      "Input temperature:  0\n",
      "K or C  C\n"
     ]
    },
    {
     "name": "stdout",
     "output_type": "stream",
     "text": [
      "0°F is -17.77777777777778°C\n"
     ]
    }
   ],
   "source": [
    "#exercise 2\n",
    "\n",
    "def sym(x):                                     #created for ease of use when user inputs scale\n",
    "    if x == \"C\":\n",
    "        return(\"Celsius\")\n",
    "    elif x == \"K\":\n",
    "        return(\"Kelvin\")\n",
    "\n",
    "\n",
    "def convert_fahrenheit(temperature_fahrenheit,target_scale = \"Celsius\"):\n",
    "    temp = 0\n",
    "    if target_scale == \"Kelvin\":\n",
    "        temp = (float(temperature_fahrenheit)-32)*(5/9)+ 273.15       #k = ((f-32)*(5/9)+ 275.15\n",
    "        return temp\n",
    "    else:\n",
    "        temp = (float(temperature_fahrenheit)-32)*(5/9)               #c = (f-32)*(5/9)\n",
    "        return temp\n",
    "\n",
    "\n",
    "temp = input(\"Input temperature: \")\n",
    "scale = input(\"K or C \")\n",
    "\n",
    "print(f'{temp}°F is {convert_fahrenheit(temp,sym(scale))}°{scale}')         #printing a pretty statement "
   ]
  },
  {
   "cell_type": "code",
   "execution_count": 42,
   "id": "5f34057b-d78e-48c5-bf93-36e74c324afa",
   "metadata": {},
   "outputs": [
    {
     "name": "stdin",
     "output_type": "stream",
     "text": [
      "Input temperature:  0\n",
      "K or F or C scale:  C\n",
      "K or F or C output:  K\n"
     ]
    },
    {
     "name": "stdout",
     "output_type": "stream",
     "text": [
      "0°C is 273.15°K\n"
     ]
    }
   ],
   "source": [
    "#exercise 3\n",
    "\n",
    "def sym(x):                                     #created for ease of use when user inputs scale\n",
    "    if x == \"F\":\n",
    "        return(\"Fahrenheit\")\n",
    "    elif x == \"K\":\n",
    "        return(\"Kelvin\")\n",
    "    elif x == \"C\":\n",
    "        return(\"Celsius\")\n",
    "\n",
    "\n",
    "def convert_temperature(temperature,source_scale,target_scale):  #BIG DEF\n",
    "    temp = 0\n",
    "    if source_scale == \"Celsius\":                                #check first for source scale\n",
    "        if target_scale == \"Kelvin\":                             #check for target scale\n",
    "            temp = float(temperature) + 273.15                   #equation\n",
    "            return temp                                          #output\n",
    "        elif target_scale == \"Fahrenheit\":                       #and repeat\n",
    "            temp = float(temperature)*(9/5)+32\n",
    "            return temp\n",
    "        elif target_scale == \"Celsius\":                          #Added for anyone who wants to know how to convert\n",
    "            temp = float(temperature)                            #from the same scale to itself\n",
    "            return temp                                          #tested with an actual user, they actually tried this\n",
    "    elif source_scale == \"Fahrenheit\":\n",
    "        if target_scale == \"Kelvin\":\n",
    "            temp = (float(temperature)-32)*(5/9)+ 273.15\n",
    "            return temp\n",
    "        elif target_scale == \"Celsius\":\n",
    "            temp = (float(temperature)-32)*(5/9)\n",
    "            return temp\n",
    "        elif target_scale == \"Fahrenheit\":\n",
    "            temp = float(temperature)\n",
    "            return temp\n",
    "    elif source_scale == \"Kelvin\":\n",
    "        if target_scale == \"Celsius\":\n",
    "            temp = float(temperature)-273.15\n",
    "            return temp\n",
    "        elif target_scale == \"Fahrenheit\":\n",
    "            temp = (float(temperature)-273.15)*(9/5)+32\n",
    "            return temp\n",
    "        elif target_scale == \"Kelvin\":\n",
    "            temp = float(temperature)\n",
    "            return temp\n",
    "\n",
    "#C = ((F-32)*(5/9)) = K - 273.15\n",
    "#F = (C*9/5)+32 = (K-273.15)*9/5+32\n",
    "#K = C+273.15 = (F-32)*5/9+273.15\n",
    "\n",
    "\n",
    "temp = input(\"Input temperature: \")\n",
    "scale = input(\"K or F or C scale: \")\n",
    "tscale = input(\"K or F or C output: \")\n",
    "\n",
    "print(f'{temp}°{scale} is {convert_temperature(temp,sym(scale),sym(tscale))}°{tscale}')         #printing a pretty statement "
   ]
  }
 ],
 "metadata": {
  "kernelspec": {
   "display_name": "Python 3 (ipykernel)",
   "language": "python",
   "name": "python3"
  },
  "language_info": {
   "codemirror_mode": {
    "name": "ipython",
    "version": 3
   },
   "file_extension": ".py",
   "mimetype": "text/x-python",
   "name": "python",
   "nbconvert_exporter": "python",
   "pygments_lexer": "ipython3",
   "version": "3.12.3"
  },
  "toc": {
   "base_numbering": 1,
   "nav_menu": {},
   "number_sections": true,
   "sideBar": true,
   "skip_h1_title": false,
   "title_cell": "Table of Contents",
   "title_sidebar": "Contents",
   "toc_cell": false,
   "toc_position": {},
   "toc_section_display": true,
   "toc_window_display": false
  },
  "vscode": {
   "interpreter": {
    "hash": "31f2aee4e71d21fbe5cf8b01ff0e069b9275f58929596ceb00d14d90e3e16cd6"
   }
  }
 },
 "nbformat": 4,
 "nbformat_minor": 5
}
