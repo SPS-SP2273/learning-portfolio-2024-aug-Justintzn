{
 "cells": [
  {
   "attachments": {},
   "cell_type": "markdown",
   "id": "123456",
   "metadata": {},
   "source": [
    "<div style=\"text-align:left;font-size:2em\"><span style=\"font-weight:bolder;font-size:1.25em\">SP2273 | Learning Portfolio</span><br><br><span style=\"font-weight:bold;color:darkred\">Functions (Need) Exercises</span></div>"
   ]
  },
  {
   "cell_type": "code",
   "execution_count": 1,
   "id": "dae48a3f-9e01-4ae2-a299-215f62b33ed7",
   "metadata": {},
   "outputs": [],
   "source": [
    "#exercise 1\n",
    "\n",
    "def greeting(name):\n",
    "    if name == 'Batman':\n",
    "        return 'Hello Batman! So, nice to meet you!'\n",
    "    return f'Hello {name}!'"
   ]
  },
  {
   "cell_type": "markdown",
   "id": "559e2e82-4cd2-4491-9585-5985a381c998",
   "metadata": {},
   "source": [
    "The above code works because of the indentation\n",
    "\n",
    "After the test checks for \"name\" not being \"Batman\", \n",
    "it will just go to the next line with hello \"name\"\n",
    "\n",
    "The code understands that being the conditional statement given, the function \"greeting\" \n",
    "would return \"hello name\" unless the condition is met"
   ]
  },
  {
   "cell_type": "code",
   "execution_count": 9,
   "id": "554d4c9c-0086-4cba-8040-92bbd39735fe",
   "metadata": {},
   "outputs": [
    {
     "name": "stdin",
     "output_type": "stream",
     "text": [
      "Input your weight in KG:  56.5\n",
      "Input your height in meters:  1.65\n"
     ]
    },
    {
     "name": "stdout",
     "output_type": "stream",
     "text": [
      "You are normal weight, nice!, your bmi is 20.753\n"
     ]
    }
   ],
   "source": [
    "#exercise 2\n",
    "\n",
    "def calculate_bmi(weight, height):\n",
    "    bmi = weight / (height**float(2))\n",
    "    if bmi < 18.5:\n",
    "        return(\"You are underweight, oh no!\")\n",
    "    elif 18.5<bmi<24.9:\n",
    "        return(\"You are normal weight, nice!\")\n",
    "    elif 25<bmi<29.9:\n",
    "        return(\"You are overweight, whoopsie\")\n",
    "    elif bmi<30:\n",
    "        return(\"You are obese\")\n",
    "\n",
    "weight = float(input(\"Input your weight in KG: \"))\n",
    "height = float(input(\"Input your height in meters: \"))\n",
    "\n",
    "print(f'{calculate_bmi(weight,height)}, your bmi is {round(weight/height**float(2),3)}')"
   ]
  },
  {
   "cell_type": "code",
   "execution_count": 35,
   "id": "e43d8af6-d17e-4836-ab2e-a0b2667e4283",
   "metadata": {},
   "outputs": [
    {
     "name": "stdin",
     "output_type": "stream",
     "text": [
      "Enter number:  1\n"
     ]
    },
    {
     "name": "stdout",
     "output_type": "stream",
     "text": [
      "1\n"
     ]
    },
    {
     "name": "stdin",
     "output_type": "stream",
     "text": [
      "Another number? (y/n) y\n",
      "Enter number:  2\n"
     ]
    },
    {
     "name": "stdout",
     "output_type": "stream",
     "text": [
      "2\n"
     ]
    },
    {
     "name": "stdin",
     "output_type": "stream",
     "text": [
      "Another number? (y/n) y\n",
      "Enter number:  3\n"
     ]
    },
    {
     "name": "stdout",
     "output_type": "stream",
     "text": [
      "6\n"
     ]
    },
    {
     "name": "stdin",
     "output_type": "stream",
     "text": [
      "Another number? (y/n) y\n",
      "Enter number:  4\n"
     ]
    },
    {
     "name": "stdout",
     "output_type": "stream",
     "text": [
      "24\n"
     ]
    },
    {
     "name": "stdin",
     "output_type": "stream",
     "text": [
      "Another number? (y/n) y\n",
      "Enter number:  5\n"
     ]
    },
    {
     "name": "stdout",
     "output_type": "stream",
     "text": [
      "120\n"
     ]
    },
    {
     "name": "stdin",
     "output_type": "stream",
     "text": [
      "Another number? (y/n) n\n"
     ]
    }
   ],
   "source": [
    "#exercise 3\n",
    "\n",
    "def fac(n):\n",
    "    if n < 0:\n",
    "        return(\"Imaginary number!\")          #factorial of a negative number is imaginary\n",
    "    elif n>0:\n",
    "        f = 1                                #start base to multiply all the \"n\"\n",
    "        for i in range(1, n+1):              #for loop for range, +1 because python counts from 0\n",
    "            f *= i                           #multiply by itself until the number is reached\n",
    "        return f\n",
    "\n",
    "while True:                                  #scariest part of the code is while true\n",
    "    try:                                     #testing if the input is a number\n",
    "        n = int(input(\"Enter number: \"))\n",
    "    except ValueError :                      #the common error for if not a number \n",
    "        print(\"Invalid number try again\")\n",
    "        continue\n",
    "    print(fac(n))\n",
    "    rep = input(\"Another number? (y/n)\")  #check for more numbers to factorial if required\n",
    "    if rep == \"y\":                        #only checking for yes with a y, if input is anything but y \n",
    "        continue\n",
    "    else:\n",
    "        break    "
   ]
  }
 ],
 "metadata": {
  "kernelspec": {
   "display_name": "Python 3 (ipykernel)",
   "language": "python",
   "name": "python3"
  },
  "language_info": {
   "codemirror_mode": {
    "name": "ipython",
    "version": 3
   },
   "file_extension": ".py",
   "mimetype": "text/x-python",
   "name": "python",
   "nbconvert_exporter": "python",
   "pygments_lexer": "ipython3",
   "version": "3.12.3"
  },
  "toc": {
   "base_numbering": 1,
   "nav_menu": {},
   "number_sections": true,
   "sideBar": true,
   "skip_h1_title": false,
   "title_cell": "Table of Contents",
   "title_sidebar": "Contents",
   "toc_cell": false,
   "toc_position": {},
   "toc_section_display": true,
   "toc_window_display": false
  },
  "vscode": {
   "interpreter": {
    "hash": "31f2aee4e71d21fbe5cf8b01ff0e069b9275f58929596ceb00d14d90e3e16cd6"
   }
  }
 },
 "nbformat": 4,
 "nbformat_minor": 5
}
