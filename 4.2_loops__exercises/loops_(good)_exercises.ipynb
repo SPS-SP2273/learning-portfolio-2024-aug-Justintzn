{
 "cells": [
  {
   "attachments": {},
   "cell_type": "markdown",
   "id": "123456",
   "metadata": {},
   "source": [
    "<div style=\"text-align:left;font-size:2em\"><span style=\"font-weight:bolder;font-size:1.25em\">SP2273 | Learning Portfolio</span><br><br><span style=\"font-weight:bold;color:darkred\">Loops (Good) Exercises</span></div>"
   ]
  },
  {
   "cell_type": "code",
   "execution_count": 29,
   "id": "1bb8b519-14a0-432b-996d-44f91ba78210",
   "metadata": {},
   "outputs": [
    {
     "name": "stdout",
     "output_type": "stream",
     "text": [
      "1 squared is 1\n",
      "3 squared is 9\n",
      "5 squared is 25\n",
      "7 squared is 49\n",
      "9 squared is 81\n"
     ]
    }
   ],
   "source": [
    "#exercise 1\n",
    "\n",
    "for i in range(10):                          #range 10 to account for all numbers even and odd\n",
    "    if i %2 != 0:                            #test for odd number\n",
    "        sq = i**2                             #squaring odd number\n",
    "        print(f'{i} squared is {sq}')        #prints odd number and the square of it"
   ]
  },
  {
   "cell_type": "code",
   "execution_count": 32,
   "id": "0dbfc992-59cb-42e5-a8b8-9687fe9556d5",
   "metadata": {},
   "outputs": [
    {
     "name": "stdout",
     "output_type": "stream",
     "text": [
      "[1, 9, 25, 49, 81]\n"
     ]
    }
   ],
   "source": [
    "#exercise 2\n",
    "\n",
    "print([i**2 for i in range(10) if i %2 !=0])                #yay fast loop comprehension"
   ]
  },
  {
   "cell_type": "code",
   "execution_count": 16,
   "id": "8b9ddf72-57e5-44a0-97f1-55c7a175577a",
   "metadata": {},
   "outputs": [
    {
     "name": "stdout",
     "output_type": "stream",
     "text": [
      "CPU times: user 2 µs, sys: 0 ns, total: 2 µs\n",
      "Wall time: 7.87 µs\n",
      "1 1\n",
      "3 9\n",
      "5 25\n",
      "7 49\n",
      "9 81\n"
     ]
    }
   ],
   "source": [
    "%time\n",
    "#exercise 3.2\n",
    "\n",
    "for i in range(10):\n",
    "    if i %2 != 0:\n",
    "        sq = i*i\n",
    "        print(i, sq)\n",
    "\n",
    "\n",
    "#I ran time it and put the things it said below here, machine nearly died i really dont like running %%timeit\n",
    "#30.8 µs ± 276 ns per loop (mean ± std. dev. of 7 runs, 10,000 loops each)"
   ]
  },
  {
   "cell_type": "code",
   "execution_count": 17,
   "id": "d941622e-edd4-4773-a060-5f3e236026cf",
   "metadata": {},
   "outputs": [
    {
     "name": "stdout",
     "output_type": "stream",
     "text": [
      "CPU times: user 3 µs, sys: 1 µs, total: 4 µs\n",
      "Wall time: 6.2 µs\n",
      "[1, 9, 25, 49, 81]\n"
     ]
    }
   ],
   "source": [
    "%time\n",
    "#exercise 3.1\n",
    "                                            #i am horrified of this function\n",
    "print([i**2 for i in range(10) if i %2 !=0])\n",
    "\n",
    "#again ran %%timeit and pretty much jupyter died on me HAHAHAHA\n",
    "\n",
    "#IOPub data rate exceeded.\n",
    "#The Jupyter server will temporarily stop sending output\n",
    "#to the client in order to avoid crashing it.\n",
    "#To change this limit, set the config variable\n",
    "#`--ServerApp.iopub_data_rate_limit`.\n",
    "\n",
    "#Current values:\n",
    "#ServerApp.iopub_data_rate_limit=1000000.0 (bytes/sec)\n",
    "#ServerApp.rate_limit_window=3.0 (secs)"
   ]
  },
  {
   "cell_type": "code",
   "execution_count": 3,
   "id": "adede152-2b77-4a95-ac17-aaa2709ecfcb",
   "metadata": {},
   "outputs": [
    {
     "name": "stdout",
     "output_type": "stream",
     "text": [
      "14 years\n"
     ]
    }
   ],
   "source": [
    "#exercise 4\n",
    "\n",
    "sub = 100                        #the total percent left of the substance\n",
    "time = 0                         #time in years elapsed\n",
    "\n",
    "while sub >= 50:                 #we can't get 50 directly but we can track the year that it dips below 50\n",
    "    sub = sub*0.95               #degrading 5% each year\n",
    "    time = time +1               #adding 1 year to the counter each loop\n",
    "\n",
    "print(f'{time} years')                      #printing the years elapsed"
   ]
  },
  {
   "cell_type": "code",
   "execution_count": 11,
   "id": "8b30ae3f-ec86-4bb7-8ddc-df1833242828",
   "metadata": {},
   "outputs": [
    {
     "name": "stdout",
     "output_type": "stream",
     "text": [
      "In 2016, there was an increase of 3.41 ppm\n"
     ]
    }
   ],
   "source": [
    "#exercise 5\n",
    "import numpy as np\n",
    "\n",
    "co2_data = [\n",
    "    (2000, 369.55), (2001, 371.14), (2002, 373.28), \n",
    "    (2003, 375.80), (2004, 377.52), (2005, 379.80), \n",
    "    (2006, 381.90), (2007, 383.79), (2008, 385.60), \n",
    "    (2009, 387.43), (2010, 389.90), (2011, 391.65), \n",
    "    (2012, 393.85), (2013, 396.52), (2014, 398.65),\n",
    "    (2015, 400.83), (2016, 404.24), (2017, 406.55), \n",
    "    (2018, 408.52), (2019, 411.44), (2020, 414.24)\n",
    "]                                                           #data set\n",
    "\n",
    "c02 = np.array(co2_data)                                    #array for easier manipulation\n",
    "\n",
    "change = 0                                                  #variable to track difference\n",
    "cy = []                                                     #to capture all years that fit criteria\n",
    "\n",
    "for i in range(len(co2_data)):                              #for loop to run through everything except last cell\n",
    "    if i !=20:                                              #will go out of range for how the code is written\n",
    "        if c02[i+1,1] - c02[i,1] > 3:                       #test for difference between 2 years being more than 3\n",
    "            change = c02[i+1,1] - c02[i,1]                  #calculating how much difference \n",
    "            cy.append([c02[i+1,0],change])                  #appending to list for multiple and easier representation\n",
    "\n",
    "if c02[-1,1] - c02[-2,1] > 3:                               #checking last year and 2nd last year\n",
    "    change = c02[-1,1] - c02[-2,1]                          #same code to calculate difference\n",
    "    cy.append([c02[-1,0],change])                           #and append if condition is met\n",
    "\n",
    "cy = np.array(cy)\n",
    "\n",
    "for i in range(len(cy)):\n",
    "    print(f'In {int(cy[i-1,0])}, there was an increase of {round(cy[i,1],2)} ppm')  #looping to present every year and its increase in ppm\n",
    "\n",
    "#included int() and round() for easier readability"
   ]
  }
 ],
 "metadata": {
  "kernelspec": {
   "display_name": "Python 3 (ipykernel)",
   "language": "python",
   "name": "python3"
  },
  "language_info": {
   "codemirror_mode": {
    "name": "ipython",
    "version": 3
   },
   "file_extension": ".py",
   "mimetype": "text/x-python",
   "name": "python",
   "nbconvert_exporter": "python",
   "pygments_lexer": "ipython3",
   "version": "3.12.3"
  },
  "toc": {
   "base_numbering": 1,
   "nav_menu": {},
   "number_sections": true,
   "sideBar": true,
   "skip_h1_title": false,
   "title_cell": "Table of Contents",
   "title_sidebar": "Contents",
   "toc_cell": false,
   "toc_position": {},
   "toc_section_display": true,
   "toc_window_display": false
  },
  "vscode": {
   "interpreter": {
    "hash": "31f2aee4e71d21fbe5cf8b01ff0e069b9275f58929596ceb00d14d90e3e16cd6"
   }
  }
 },
 "nbformat": 4,
 "nbformat_minor": 5
}
