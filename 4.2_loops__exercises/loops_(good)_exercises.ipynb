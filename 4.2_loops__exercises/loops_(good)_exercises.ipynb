{
 "cells": [
  {
   "attachments": {},
   "cell_type": "markdown",
   "id": "123456",
   "metadata": {},
   "source": [
    "<div style=\"text-align:left;font-size:2em\"><span style=\"font-weight:bolder;font-size:1.25em\">SP2273 | Learning Portfolio</span><br><br><span style=\"font-weight:bold;color:darkred\">Loops (Good) Exercises</span></div>"
   ]
  },
  {
   "cell_type": "code",
   "execution_count": 29,
   "id": "1bb8b519-14a0-432b-996d-44f91ba78210",
   "metadata": {},
   "outputs": [
    {
     "name": "stdout",
     "output_type": "stream",
     "text": [
      "1 squared is 1\n",
      "3 squared is 9\n",
      "5 squared is 25\n",
      "7 squared is 49\n",
      "9 squared is 81\n"
     ]
    }
   ],
   "source": [
    "#exercise 1\n",
    "\n",
    "for i in range(10):                          #range 10 to account for all numbers even and odd\n",
    "    if i %2 != 0:                            #test for odd number\n",
    "        sq = i*i                             #squaring odd number\n",
    "        print(f'{i} squared is {sq}')        #prints odd number and the square of it"
   ]
  },
  {
   "cell_type": "code",
   "execution_count": 32,
   "id": "0dbfc992-59cb-42e5-a8b8-9687fe9556d5",
   "metadata": {},
   "outputs": [
    {
     "name": "stdout",
     "output_type": "stream",
     "text": [
      "[1, 9, 25, 49, 81]\n"
     ]
    }
   ],
   "source": [
    "#exercise 2\n",
    "\n",
    "print([i*i for i in range(10) if i %2 !=0])                #yay fast loop comprehension"
   ]
  },
  {
   "cell_type": "code",
   "execution_count": 31,
   "id": "d941622e-edd4-4773-a060-5f3e236026cf",
   "metadata": {},
   "outputs": [
    {
     "ename": "ValueError",
     "evalue": "empty body on For",
     "output_type": "error",
     "traceback": [
      "\u001b[0;31m---------------------------------------------------------------------------\u001b[0m",
      "\u001b[0;31mValueError\u001b[0m                                Traceback (most recent call last)",
      "Cell \u001b[0;32mIn[31], line 3\u001b[0m\n\u001b[1;32m      1\u001b[0m \u001b[38;5;66;03m#exercise 3\u001b[39;00m\n\u001b[0;32m----> 3\u001b[0m \u001b[43mget_ipython\u001b[49m\u001b[43m(\u001b[49m\u001b[43m)\u001b[49m\u001b[38;5;241;43m.\u001b[39;49m\u001b[43mrun_line_magic\u001b[49m\u001b[43m(\u001b[49m\u001b[38;5;124;43m'\u001b[39;49m\u001b[38;5;124;43mtimeit\u001b[39;49m\u001b[38;5;124;43m'\u001b[39;49m\u001b[43m,\u001b[49m\u001b[43m \u001b[49m\u001b[38;5;124;43m'\u001b[39;49m\u001b[38;5;124;43m                                            #i am horrified of this function\u001b[39;49m\u001b[38;5;124;43m'\u001b[39;49m\u001b[43m)\u001b[49m\n\u001b[1;32m      4\u001b[0m \u001b[38;5;28mprint\u001b[39m([i\u001b[38;5;241m*\u001b[39mi \u001b[38;5;28;01mfor\u001b[39;00m i \u001b[38;5;129;01min\u001b[39;00m \u001b[38;5;28mrange\u001b[39m(\u001b[38;5;241m10\u001b[39m) \u001b[38;5;28;01mif\u001b[39;00m i \u001b[38;5;241m%\u001b[39m\u001b[38;5;241m2\u001b[39m \u001b[38;5;241m!=\u001b[39m\u001b[38;5;241m0\u001b[39m])\n\u001b[1;32m      6\u001b[0m get_ipython()\u001b[38;5;241m.\u001b[39mrun_line_magic(\u001b[38;5;124m'\u001b[39m\u001b[38;5;124mtimeit\u001b[39m\u001b[38;5;124m'\u001b[39m, \u001b[38;5;124m'\u001b[39m\u001b[38;5;124m'\u001b[39m)\n",
      "File \u001b[0;32m~/Library/jupyterlab-desktop/jlab_server/lib/python3.12/site-packages/IPython/core/interactiveshell.py:2480\u001b[0m, in \u001b[0;36mInteractiveShell.run_line_magic\u001b[0;34m(self, magic_name, line, _stack_depth)\u001b[0m\n\u001b[1;32m   2478\u001b[0m     kwargs[\u001b[38;5;124m'\u001b[39m\u001b[38;5;124mlocal_ns\u001b[39m\u001b[38;5;124m'\u001b[39m] \u001b[38;5;241m=\u001b[39m \u001b[38;5;28mself\u001b[39m\u001b[38;5;241m.\u001b[39mget_local_scope(stack_depth)\n\u001b[1;32m   2479\u001b[0m \u001b[38;5;28;01mwith\u001b[39;00m \u001b[38;5;28mself\u001b[39m\u001b[38;5;241m.\u001b[39mbuiltin_trap:\n\u001b[0;32m-> 2480\u001b[0m     result \u001b[38;5;241m=\u001b[39m \u001b[43mfn\u001b[49m\u001b[43m(\u001b[49m\u001b[38;5;241;43m*\u001b[39;49m\u001b[43margs\u001b[49m\u001b[43m,\u001b[49m\u001b[43m \u001b[49m\u001b[38;5;241;43m*\u001b[39;49m\u001b[38;5;241;43m*\u001b[39;49m\u001b[43mkwargs\u001b[49m\u001b[43m)\u001b[49m\n\u001b[1;32m   2482\u001b[0m \u001b[38;5;66;03m# The code below prevents the output from being displayed\u001b[39;00m\n\u001b[1;32m   2483\u001b[0m \u001b[38;5;66;03m# when using magics with decorator @output_can_be_silenced\u001b[39;00m\n\u001b[1;32m   2484\u001b[0m \u001b[38;5;66;03m# when the last Python token in the expression is a ';'.\u001b[39;00m\n\u001b[1;32m   2485\u001b[0m \u001b[38;5;28;01mif\u001b[39;00m \u001b[38;5;28mgetattr\u001b[39m(fn, magic\u001b[38;5;241m.\u001b[39mMAGIC_OUTPUT_CAN_BE_SILENCED, \u001b[38;5;28;01mFalse\u001b[39;00m):\n",
      "File \u001b[0;32m~/Library/jupyterlab-desktop/jlab_server/lib/python3.12/site-packages/IPython/core/magics/execution.py:1162\u001b[0m, in \u001b[0;36mExecutionMagics.timeit\u001b[0;34m(self, line, cell, local_ns)\u001b[0m\n\u001b[1;32m   1159\u001b[0m tc_min \u001b[38;5;241m=\u001b[39m \u001b[38;5;241m0.1\u001b[39m\n\u001b[1;32m   1161\u001b[0m t0 \u001b[38;5;241m=\u001b[39m clock()\n\u001b[0;32m-> 1162\u001b[0m code \u001b[38;5;241m=\u001b[39m \u001b[38;5;28;43mself\u001b[39;49m\u001b[38;5;241;43m.\u001b[39;49m\u001b[43mshell\u001b[49m\u001b[38;5;241;43m.\u001b[39;49m\u001b[43mcompile\u001b[49m\u001b[43m(\u001b[49m\u001b[43mtimeit_ast\u001b[49m\u001b[43m,\u001b[49m\u001b[43m \u001b[49m\u001b[38;5;124;43m\"\u001b[39;49m\u001b[38;5;124;43m<magic-timeit>\u001b[39;49m\u001b[38;5;124;43m\"\u001b[39;49m\u001b[43m,\u001b[49m\u001b[43m \u001b[49m\u001b[38;5;124;43m\"\u001b[39;49m\u001b[38;5;124;43mexec\u001b[39;49m\u001b[38;5;124;43m\"\u001b[39;49m\u001b[43m)\u001b[49m\n\u001b[1;32m   1163\u001b[0m tc \u001b[38;5;241m=\u001b[39m clock()\u001b[38;5;241m-\u001b[39mt0\n\u001b[1;32m   1165\u001b[0m ns \u001b[38;5;241m=\u001b[39m {}\n",
      "File \u001b[0;32m~/Library/jupyterlab-desktop/jlab_server/lib/python3.12/codeop.py:126\u001b[0m, in \u001b[0;36mCompile.__call__\u001b[0;34m(self, source, filename, symbol, **kwargs)\u001b[0m\n\u001b[1;32m    124\u001b[0m     flags \u001b[38;5;241m&\u001b[39m\u001b[38;5;241m=\u001b[39m \u001b[38;5;241m~\u001b[39mPyCF_DONT_IMPLY_DEDENT\n\u001b[1;32m    125\u001b[0m     flags \u001b[38;5;241m&\u001b[39m\u001b[38;5;241m=\u001b[39m \u001b[38;5;241m~\u001b[39mPyCF_ALLOW_INCOMPLETE_INPUT\n\u001b[0;32m--> 126\u001b[0m codeob \u001b[38;5;241m=\u001b[39m \u001b[38;5;28;43mcompile\u001b[39;49m\u001b[43m(\u001b[49m\u001b[43msource\u001b[49m\u001b[43m,\u001b[49m\u001b[43m \u001b[49m\u001b[43mfilename\u001b[49m\u001b[43m,\u001b[49m\u001b[43m \u001b[49m\u001b[43msymbol\u001b[49m\u001b[43m,\u001b[49m\u001b[43m \u001b[49m\u001b[43mflags\u001b[49m\u001b[43m,\u001b[49m\u001b[43m \u001b[49m\u001b[38;5;28;43;01mTrue\u001b[39;49;00m\u001b[43m)\u001b[49m\n\u001b[1;32m    127\u001b[0m \u001b[38;5;28;01mfor\u001b[39;00m feature \u001b[38;5;129;01min\u001b[39;00m _features:\n\u001b[1;32m    128\u001b[0m     \u001b[38;5;28;01mif\u001b[39;00m codeob\u001b[38;5;241m.\u001b[39mco_flags \u001b[38;5;241m&\u001b[39m feature\u001b[38;5;241m.\u001b[39mcompiler_flag:\n",
      "\u001b[0;31mValueError\u001b[0m: empty body on For"
     ]
    }
   ],
   "source": [
    "#exercise 3\n",
    "\n",
    "%timeit                                             #i am horrified of this function\n",
    "print([i*i for i in range(10) if i %2 !=0])\n",
    "\n",
    "%timeit\n",
    "for i in range(10):\n",
    "    if i %2 != 0:\n",
    "        sq = i*i\n",
    "        print(i, sq)"
   ]
  },
  {
   "cell_type": "code",
   "execution_count": 3,
   "id": "adede152-2b77-4a95-ac17-aaa2709ecfcb",
   "metadata": {},
   "outputs": [
    {
     "name": "stdout",
     "output_type": "stream",
     "text": [
      "14 years\n"
     ]
    }
   ],
   "source": [
    "#exercise 4\n",
    "\n",
    "sub = 100                        #the total percent left of the substance\n",
    "time = 0                         #time in years elapsed\n",
    "\n",
    "while sub >= 50:                 #we can't get 50 directly but we can track the year that it dips below 50\n",
    "    sub = sub*0.95               #degrading 5% each year\n",
    "    time = time +1               #adding 1 year to the counter each loop\n",
    "\n",
    "print(f'{time} years')                      #printing the years elapsed"
   ]
  },
  {
   "cell_type": "code",
   "execution_count": 27,
   "id": "8b30ae3f-ec86-4bb7-8ddc-df1833242828",
   "metadata": {},
   "outputs": [
    {
     "name": "stdout",
     "output_type": "stream",
     "text": [
      "In 2016.0 there was an increase of 3.410000000000025 ppm\n"
     ]
    }
   ],
   "source": [
    "#exercise 5\n",
    "import numpy as np\n",
    "\n",
    "co2_data = [\n",
    "    (2000, 369.55), (2001, 371.14), (2002, 373.28), \n",
    "    (2003, 375.80), (2004, 377.52), (2005, 379.80), \n",
    "    (2006, 381.90), (2007, 383.79), (2008, 385.60), \n",
    "    (2009, 387.43), (2010, 389.90), (2011, 391.65), \n",
    "    (2012, 393.85), (2013, 396.52), (2014, 398.65),\n",
    "    (2015, 400.83), (2016, 404.24), (2017, 406.55), \n",
    "    (2018, 408.52), (2019, 411.44), (2020, 414.24)\n",
    "]                                                           #data set\n",
    "\n",
    "c02 = np.array(co2_data)                                    #array for easier manipulation\n",
    "\n",
    "change = 0                                                  #variable to track difference\n",
    "cy = []                                                     #to capture all years that fit criteria\n",
    "\n",
    "for i in range(len(co2_data)):                              #for loop to run through everything except last cell\n",
    "    if i !=20:                                              #will go out of range for how the code is written\n",
    "        if c02[i+1,1] - c02[i,1] > 3:                       #test for difference between 2 years being more than 3\n",
    "            change = c02[i+1,1] - c02[i,1]                  #calculating how much difference \n",
    "            cy.append([c02[i+1,0],change])                  #appending to list for multiple and easier representation\n",
    "\n",
    "if c02[-1,1] - c02[-2,1] > 3:                               #checking last year and 2nd last year\n",
    "    change = c02[-1,1] - c02[-2,1]                          #same code to calculate difference\n",
    "    cy.append([c02[-1,0],change])                           #and append if condition is met\n",
    "\n",
    "cy = np.array(cy)\n",
    "\n",
    "for i in range(len(cy)):\n",
    "    print(f'In {cy[i,0]} there was an increase of {cy[i,1]} ppm')  #looping to present every year and its increase in ppm\n",
    "\n",
    "    "
   ]
  }
 ],
 "metadata": {
  "kernelspec": {
   "display_name": "Python 3 (ipykernel)",
   "language": "python",
   "name": "python3"
  },
  "language_info": {
   "codemirror_mode": {
    "name": "ipython",
    "version": 3
   },
   "file_extension": ".py",
   "mimetype": "text/x-python",
   "name": "python",
   "nbconvert_exporter": "python",
   "pygments_lexer": "ipython3",
   "version": "3.12.3"
  },
  "toc": {
   "base_numbering": 1,
   "nav_menu": {},
   "number_sections": true,
   "sideBar": true,
   "skip_h1_title": false,
   "title_cell": "Table of Contents",
   "title_sidebar": "Contents",
   "toc_cell": false,
   "toc_position": {},
   "toc_section_display": true,
   "toc_window_display": false
  },
  "vscode": {
   "interpreter": {
    "hash": "31f2aee4e71d21fbe5cf8b01ff0e069b9275f58929596ceb00d14d90e3e16cd6"
   }
  }
 },
 "nbformat": 4,
 "nbformat_minor": 5
}
