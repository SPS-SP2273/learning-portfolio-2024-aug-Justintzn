{
 "cells": [
  {
   "attachments": {},
   "cell_type": "markdown",
   "id": "123456",
   "metadata": {},
   "source": [
    "<div style=\"text-align:left;font-size:2em\"><span style=\"font-weight:bolder;font-size:1.25em\">SP2273 | Learning Portfolio</span><br><br><span style=\"font-weight:bold;color:darkred\">Loops (Need) Exercises</span></div>"
   ]
  },
  {
   "cell_type": "code",
   "execution_count": 4,
   "id": "c17eaef8-c47d-4123-8ad5-d98d6cd44f47",
   "metadata": {},
   "outputs": [
    {
     "name": "stdout",
     "output_type": "stream",
     "text": [
      "0 in celsius is 32.0 in fahrenheit\n",
      "5 in celsius is 41.0 in fahrenheit\n",
      "10 in celsius is 50.0 in fahrenheit\n",
      "15 in celsius is 59.0 in fahrenheit\n",
      "20 in celsius is 68.0 in fahrenheit\n",
      "25 in celsius is 77.0 in fahrenheit\n",
      "30 in celsius is 86.0 in fahrenheit\n",
      "35 in celsius is 95.0 in fahrenheit\n",
      "40 in celsius is 104.0 in fahrenheit\n",
      "45 in celsius is 113.0 in fahrenheit\n",
      "50 in celsius is 122.0 in fahrenheit\n"
     ]
    }
   ],
   "source": [
    "#Exercise 1\n",
    "\n",
    "temperatures_celsius = [\n",
    "    0, 5, 10, 15, 20, 25,\n",
    "    30, 35, 40, 45, 50\n",
    "]\n",
    "\n",
    "def convert(x):\n",
    "    y = x*(9/5)+32\n",
    "    return y\n",
    "\n",
    "for i in temperatures_celsius:\n",
    "    print(f\"{i} in celsius is {convert(i)} in fahrenheit\")"
   ]
  },
  {
   "cell_type": "code",
   "execution_count": 87,
   "id": "5d0b7074-dbb7-4664-bb8b-3428a1f52dd9",
   "metadata": {},
   "outputs": [
    {
     "name": "stdout",
     "output_type": "stream",
     "text": [
      "1:[1 2 3 4 5]\n",
      "2:[ 2  4  6  8 10]\n",
      "3:[ 3  6  9 12 15]\n",
      "4:[ 4  8 12 16 20]\n",
      "5:[ 5 10 15 20 25]\n",
      "\n",
      "\n",
      "\n",
      "1: 1 2 3 4 5 \n",
      "2: 2 4 6 8 10 \n",
      "3: 3 6 9 12 15 \n",
      "4: 4 8 12 16 20 \n",
      "5: 5 10 15 20 25 \n"
     ]
    }
   ],
   "source": [
    "#Exercise 2\n",
    "import numpy as np\n",
    "\n",
    "num = np.array([1,2,3,4,5])\n",
    "\n",
    "for count, i in enumerate(range(5),1):\n",
    "    print(f'{i+1}:{(num*(i+1))}')\n",
    "\n",
    "\n",
    "print()                      #just for separation\n",
    "print()\n",
    "print()\n",
    "\n",
    "#nested for loop solution\n",
    "\n",
    "for i in range(5):\n",
    "    print(f'{i+1}', end = \": \")\n",
    "    \n",
    "    for j in range(5):\n",
    "        print((j+1) * (i+1), end = \" \")\n",
    "    print()\n",
    "        \n",
    "    "
   ]
  },
  {
   "cell_type": "code",
   "execution_count": 5,
   "id": "6d01750f-7144-4ea1-855e-97cdaf3a1820",
   "metadata": {},
   "outputs": [
    {
     "name": "stdout",
     "output_type": "stream",
     "text": [
      "Experiment 1: No. of Heads = 1\n",
      "Experiment 2: No. of Heads = 6\n",
      "Experiment 3: No. of Heads = 1\n",
      "Experiment 4: No. of Heads = 1\n",
      "Experiment 5: No. of Heads = 2\n",
      "Experiment 6: No. of Heads = 3\n",
      "Experiment 7: No. of Heads = 9\n",
      "Experiment 8: No. of Heads = 8\n",
      "Experiment 9: No. of Heads = 2\n",
      "Experiment 10: No. of Heads = 9\n"
     ]
    }
   ],
   "source": [
    "#exercise 3\n",
    "import numpy as np\n",
    "\n",
    "for i in range(10):\n",
    "    print(f'Experiment {i+1}: No. of Heads = {np.random.randint(1,10)}')\n",
    "\n",
    "#Found the randint function along with how to set low and upper limits, decimals for heads really don't make sense"
   ]
  }
 ],
 "metadata": {
  "kernelspec": {
   "display_name": "Python 3 (ipykernel)",
   "language": "python",
   "name": "python3"
  },
  "language_info": {
   "codemirror_mode": {
    "name": "ipython",
    "version": 3
   },
   "file_extension": ".py",
   "mimetype": "text/x-python",
   "name": "python",
   "nbconvert_exporter": "python",
   "pygments_lexer": "ipython3",
   "version": "3.12.3"
  },
  "toc": {
   "base_numbering": 1,
   "nav_menu": {},
   "number_sections": true,
   "sideBar": true,
   "skip_h1_title": false,
   "title_cell": "Table of Contents",
   "title_sidebar": "Contents",
   "toc_cell": false,
   "toc_position": {},
   "toc_section_display": true,
   "toc_window_display": false
  },
  "vscode": {
   "interpreter": {
    "hash": "31f2aee4e71d21fbe5cf8b01ff0e069b9275f58929596ceb00d14d90e3e16cd6"
   }
  }
 },
 "nbformat": 4,
 "nbformat_minor": 5
}
