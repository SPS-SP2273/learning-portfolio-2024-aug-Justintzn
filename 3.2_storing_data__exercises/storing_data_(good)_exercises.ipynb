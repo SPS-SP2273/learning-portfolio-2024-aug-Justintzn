{
 "cells": [
  {
   "attachments": {},
   "cell_type": "markdown",
   "id": "123456",
   "metadata": {},
   "source": [
    "<div style=\"text-align:left;font-size:2em\"><span style=\"font-weight:bolder;font-size:1.25em\">SP2273 | Learning Portfolio</span><br><br><span style=\"font-weight:bold;color:darkred\">Storing Data (Good) Exercises</span></div>"
   ]
  },
  {
   "cell_type": "markdown",
   "id": "3d0ccaf4-f252-4b21-ab31-b5980906ff01",
   "metadata": {},
   "source": [
    "# Exercise 1\n",
    "\n",
    "Purely from memory, write short descriptions of the following terms:\n",
    "\n",
    "| Term    |  Brief description   |   \n",
    "| :--- | ---: |\n",
    "| Subsetting  | This is to select from a list or array   |\n",
    "| Indexing   |  An index is the position of the data in the list or array  |\n",
    "| Slicing   |  Slicing is to select multiple data points in the list or array  |\n",
    "| Masking   |  Masking decides test for the data in the list or array is true or false based on a given condition  |"
   ]
  },
  {
   "cell_type": "code",
   "execution_count": 11,
   "id": "c1d5c384-8f23-481e-8bb5-29587e98f49c",
   "metadata": {},
   "outputs": [
    {
     "name": "stdout",
     "output_type": "stream",
     "text": [
      "['A' 'C' 'E' 'G' 'I']\n"
     ]
    }
   ],
   "source": [
    "#Exercise 2\n",
    "import numpy as np                        #import numpy\n",
    "\n",
    "np_array_2d = np.array([[1, \"A\"], [3, \"C\"], [2, \"B\"], [4, \"D\"],\n",
    "                        [5, \"E\"], [7, \"G\"], [6, \"F\"], [8, \"H\"],\n",
    "                        [10, \"J\"], [9, \"I\"]])\n",
    "\n",
    "np_array_num = np_array_2d[:,0].astype(int)                 #getting first argument in each sublist \n",
    "                                                            #and putting it in another list as integers\n",
    "\n",
    "np_mask = np_array_num %2 == 1                              #creating a mask of the numbers that are odd\n",
    "                                                            #by checking if the modulus of the number returns\n",
    "                                                            #a remainder of 1\n",
    "\n",
    "\n",
    "print(np_array_2d[np_mask,1])                               #printing the original list\n",
    "                                                            #with the condition given by the mask\n",
    "                                                            #and specifically only printing the second argument\n",
    "                                                            #in each subset, which would be the letters"
   ]
  },
  {
   "cell_type": "code",
   "execution_count": 65,
   "id": "93889f48-98b2-44ca-8d59-e6fa78ed9f47",
   "metadata": {},
   "outputs": [
    {
     "name": "stdout",
     "output_type": "stream",
     "text": [
      "[[ 1  0  1 -1 -1]\n",
      " [ 1 -1  1 -1 -1]\n",
      " [ 1 -1 -1  1 -1]\n",
      " [-1  1  1 -1 -1]\n",
      " [ 1 -1  1 -1  1]]\n"
     ]
    }
   ],
   "source": [
    "#exercise 3\n",
    "\n",
    "num = np.array([[66, 50, 57, -1, -1],\n",
    " [92, -1, 88, -1, -1],\n",
    " [75, -1, -1, 76, -1],\n",
    " [-1, 51, 87, -1, -1],\n",
    " [71, -1, 67, -1, 69]])\n",
    "\n",
    "mask1 = num <50                   #first conditional mask\n",
    "mask2 = num >50                   #second conditional mask\n",
    "mask3 = num == 50                 #third conditional mask\n",
    "\n",
    "num[mask1] = -1                   #first mask changes\n",
    "num[mask2] = 1                    #second mask change\n",
    "num[mask3] = 0                    #third mask change\n",
    "\n",
    "print(num)                        #output"
   ]
  }
 ],
 "metadata": {
  "kernelspec": {
   "display_name": "Python 3 (ipykernel)",
   "language": "python",
   "name": "python3"
  },
  "language_info": {
   "codemirror_mode": {
    "name": "ipython",
    "version": 3
   },
   "file_extension": ".py",
   "mimetype": "text/x-python",
   "name": "python",
   "nbconvert_exporter": "python",
   "pygments_lexer": "ipython3",
   "version": "3.12.3"
  },
  "toc": {
   "base_numbering": 1,
   "nav_menu": {},
   "number_sections": true,
   "sideBar": true,
   "skip_h1_title": false,
   "title_cell": "Table of Contents",
   "title_sidebar": "Contents",
   "toc_cell": false,
   "toc_position": {},
   "toc_section_display": true,
   "toc_window_display": false
  },
  "vscode": {
   "interpreter": {
    "hash": "31f2aee4e71d21fbe5cf8b01ff0e069b9275f58929596ceb00d14d90e3e16cd6"
   }
  }
 },
 "nbformat": 4,
 "nbformat_minor": 5
}
