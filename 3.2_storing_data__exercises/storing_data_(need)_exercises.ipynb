{
 "cells": [
  {
   "attachments": {},
   "cell_type": "markdown",
   "id": "123456",
   "metadata": {},
   "source": [
    "<div style=\"text-align:left;font-size:2em\"><span style=\"font-weight:bolder;font-size:1.25em\">SP2273 | Learning Portfolio</span><br><br><span style=\"font-weight:bold;color:darkred\">Storing Data (Need) Exercises</span></div>"
   ]
  },
  {
   "cell_type": "markdown",
   "id": "d56c95f6-35f1-488d-823f-1a6105645ef6",
   "metadata": {},
   "source": [
    "# Exercise 1 (Total recall?) \n",
    "\n",
    "1. Two similarities between list and array\n",
    "   - both store information in the order that the data was input\n",
    "   - To access both, an index denoted by [number] must be used to call out a value from the list/array\n",
    "\n",
    "\n",
    "2. Two differences between list and array\n",
    "    - Lists can store values of different types while arrays can only store value of one type\n",
    "    - When multiplying a list, the values are repeated by the multiplier. When multiplying an array, the values in        the array are multiplied individually\n",
    "\n",
    "\n",
    "3. What is a dictionary?\n",
    "    - A dictionary is used to hold two types of argument, a key and a value. A value is assigned to a key and when        accessing the dictionary, the key is called on to obtain the value assigned to it."
   ]
  },
  {
   "cell_type": "code",
   "execution_count": 16,
   "id": "4e0b550e-5e1e-404b-8e73-bbc057a7a4bd",
   "metadata": {},
   "outputs": [
    {
     "name": "stdout",
     "output_type": "stream",
     "text": [
      "a1\n",
      "c3\n",
      "e5\n",
      "g7\n",
      "i9\n",
      "['a1', 'c3', 'e5', 'g7', 'i9']\n"
     ]
    }
   ],
   "source": [
    "# Exercise 2\n",
    "py_list = [\"a1\", \"b2\", \"c3\", \"d4\", \"e5\", \"f6\", \"g7\", \"h8\", \"i9\", \"j10\"]\n",
    "print(py_list[0])   # Prints 'a1'\n",
    "print(py_list[2])   # Prints 'c3'\n",
    "print(py_list[4])   # Prints 'e5'\n",
    "print(py_list[6])   # Prints 'g7'\n",
    "print(py_list[8])   # Prints 'i9'\n",
    "\n",
    "print(py_list[0:10:2]) #Prints all numbers starting from index 0 skipping 1 to print only values with odd numbers"
   ]
  },
  {
   "cell_type": "code",
   "execution_count": 20,
   "id": "4e139cb0-f627-432f-bb3e-fad3329d58b5",
   "metadata": {},
   "outputs": [
    {
     "name": "stdout",
     "output_type": "stream",
     "text": [
      "Boron\n",
      "Boron\n"
     ]
    }
   ],
   "source": [
    "# Exercise 3\n",
    "elements = ['Hydrogen',\n",
    "            'Helium', 'Lithium',\n",
    "            'Beryllium', 'Boron', 'Carbon',\n",
    "            'Nitrogen', 'Oxygen',\n",
    "            'Fluorine',\n",
    "            'Neon']\n",
    "\n",
    "print(elements[4])      #prints index 4, position 5\n",
    "print(elements[-6])     #prints index 4, position 5 counting backwards from 10"
   ]
  },
  {
   "cell_type": "code",
   "execution_count": 34,
   "id": "dd2920b2-f4dd-4ba6-b46a-f6daef492fae",
   "metadata": {},
   "outputs": [
    {
     "name": "stdout",
     "output_type": "stream",
     "text": [
      "9\n"
     ]
    }
   ],
   "source": [
    "# exercise 4\n",
    "numbers=[45, 60, 1, 30, 96, 1, 96, 57, 16, 1,\n",
    "        99, 62, 86, 43, 42, 60, 59, 1, 1, 35,\n",
    "        83, 47, 34, 28, 68, 23, 22, 92, 1, 79,\n",
    "        1, 29, 94, 72, 46, 47, 1, 74, 32, 20,\n",
    "        8, 37, 35, 1, 89, 29, 86, 19, 43, 61]                  \n",
    "\n",
    "arr = []\n",
    "\n",
    "for i in numbers:\n",
    "    if i == 1:\n",
    "        arr.append(i)\n",
    "\n",
    "ar = np.array(arr)\n",
    "\n",
    "\n",
    "print(np.sum(ar))\n"
   ]
  },
  {
   "cell_type": "code",
   "execution_count": 93,
   "id": "ded253af-b5ce-4ce0-8a96-0f2af5a7af7a",
   "metadata": {
    "scrolled": true
   },
   "outputs": [
    {
     "name": "stdout",
     "output_type": "stream",
     "text": [
      "38.5\n",
      "302.5\n",
      "32.41990129534635\n",
      "326.0893282522444\n",
      "0.9871796626270701\n",
      "-3553.7407172901694\n",
      "[[1.         0.98717966]\n",
      " [0.98717966 1.        ]]\n"
     ]
    }
   ],
   "source": [
    "# exercise 5\n",
    "x_1 = [1, 4, 9, 16, 25, 36, 49, 64, 81, 100]\n",
    "x_2 = [1, 8, 27, 64, 125, 216, 343, 512, 729, 1000]\n",
    "\n",
    "mean1 = np.mean(x_1)        #mean x1\n",
    "mean2 = np.mean(x_2)        #mean x2\n",
    "\n",
    "std1 = np.std(x_1)          #standard deviation 1\n",
    "std2 = np.std(x_2)          #standard deviation 2\n",
    "\n",
    "\n",
    "#pearson \n",
    "xy = []\n",
    "\n",
    "for i in range(len(x_1)):\n",
    "    xy.append(x_1[i]*x_2[i])       #finding xy which is x_1 * x_2 for each position in that list\n",
    "\n",
    "xy = sum(xy)                       #this adds all of the x_1*x_2\n",
    "\n",
    "x = sum(x_1)                       # a full sum of the x_1 list\n",
    "y = sum(x_2)                       # a full sum of the x_2 list\n",
    "\n",
    "sq1 = []\n",
    "\n",
    "for i in range(len(x_1)):\n",
    "    sq1.append(x_1[i]*x_1[i])      #sqaring each number in the x_1 list\n",
    "\n",
    "x2 = 0\n",
    "for i in range(len(sq1)):\n",
    "    x2 += sq1[i]                   #adding all the sqaure numbers together\n",
    "\n",
    "sq2 = []\n",
    "\n",
    "for i in range(len(x_2)):\n",
    "    sq2.append(x_2[i]*x_2[i])      #sqaring each number in the x_2 list\n",
    "\n",
    "y2 = 0\n",
    "for i in range(len(sq2)):\n",
    "    y2 += sq2[i]                   #adding all the sqaure numbers together\n",
    "\n",
    "n = len(x_1)                       #number of values total\n",
    "\n",
    "r = (n*xy - (x*y))/np.sqrt((n*x2-(x*x))*(n*y2-(y*y)))     #an extremely inefficient version of the equation\n",
    "\n",
    "\n",
    "\n",
    "\n",
    "\n",
    "print(mean1)     #mean of x_1\n",
    "print(mean2)     #mean of x_2\n",
    "\n",
    "print(std1)      #standard deviation of x_1\n",
    "print(std2)      #standard deviation of x_2\n",
    "\n",
    "\n",
    "print(r)                           #pearson correlation coefficient\n",
    "print(np.corrcoef(x_1,x_2))        #a check and yay it works\n",
    "     \n",
    "#r = n ∑ X Y − ∑ X ∑ Y ( n ∑ X 2 − ( ∑ X ) 2 ) ⋅ ( n ∑ Y 2 − ( ∑ Y ) 2 ) \n",
    "#the equation for reference\n",
    "\n",
    "\n"
   ]
  }
 ],
 "metadata": {
  "kernelspec": {
   "display_name": "Python 3 (ipykernel)",
   "language": "python",
   "name": "python3"
  },
  "language_info": {
   "codemirror_mode": {
    "name": "ipython",
    "version": 3
   },
   "file_extension": ".py",
   "mimetype": "text/x-python",
   "name": "python",
   "nbconvert_exporter": "python",
   "pygments_lexer": "ipython3",
   "version": "3.12.3"
  },
  "toc": {
   "base_numbering": 1,
   "nav_menu": {},
   "number_sections": true,
   "sideBar": true,
   "skip_h1_title": false,
   "title_cell": "Table of Contents",
   "title_sidebar": "Contents",
   "toc_cell": false,
   "toc_position": {},
   "toc_section_display": true,
   "toc_window_display": false
  },
  "vscode": {
   "interpreter": {
    "hash": "31f2aee4e71d21fbe5cf8b01ff0e069b9275f58929596ceb00d14d90e3e16cd6"
   }
  }
 },
 "nbformat": 4,
 "nbformat_minor": 5
}
