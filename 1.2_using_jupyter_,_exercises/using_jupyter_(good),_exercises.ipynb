{
 "cells": [
  {
   "attachments": {},
   "cell_type": "markdown",
   "id": "123456",
   "metadata": {},
   "source": [
    "<div style=\"text-align:left;font-size:2em\"><span style=\"font-weight:bolder;font-size:1.25em\">SP2273 | Learning Portfolio</span><br><br><span style=\"font-weight:bold;color:darkred\">Using Jupyter (Good), Exercises</span></div>"
   ]
  },
  {
   "attachments": {},
   "cell_type": "markdown",
   "id": "db5fef1a",
   "metadata": {},
   "source": [
    "## Footnotes"
   ]
  },
  {
   "cell_type": "code",
   "execution_count": 2,
   "id": "65327074-87ac-40a9-880b-1c6127622b5b",
   "metadata": {},
   "outputs": [],
   "source": [
    "while False:\n",
    "    print('*', end='')\n"
   ]
  },
  {
   "cell_type": "markdown",
   "id": "1f5514c0-c451-4936-97aa-300c8db3580f",
   "metadata": {},
   "source": [
    "aint no way"
   ]
  },
  {
   "cell_type": "code",
   "execution_count": 1,
   "id": "832eadc9-fb9e-42ff-a94e-0d50c7687c80",
   "metadata": {},
   "outputs": [
    {
     "name": "stdout",
     "output_type": "stream",
     "text": [
      "hello world\n"
     ]
    }
   ],
   "source": [
    "#print = \"Print\"\n",
    "print(\"hello world\")"
   ]
  },
  {
   "cell_type": "markdown",
   "id": "3bfdeb27-1da2-4471-898c-f794e83239fa",
   "metadata": {},
   "source": [
    "didn't realise you can attach a value to a function and kill it"
   ]
  },
  {
   "cell_type": "code",
   "execution_count": 36,
   "id": "8909c7c1-1498-4b42-bdf1-4c6f35dca7ac",
   "metadata": {},
   "outputs": [
    {
     "name": "stdout",
     "output_type": "stream",
     "text": [
      "CPU times: user 4 µs, sys: 1e+03 ns, total: 5 µs\n",
      "Wall time: 7.15 µs\n",
      "[0, 1, 4, 9, 16, 25, 36, 49, 64, 81]\n"
     ]
    }
   ],
   "source": [
    "%time\n",
    "squares = [i**2 for i in range(10)]\n",
    "print(squares)"
   ]
  },
  {
   "cell_type": "code",
   "execution_count": 33,
   "id": "4125dc77-640b-41d8-92ba-0f9327d8ffe0",
   "metadata": {},
   "outputs": [
    {
     "name": "stdout",
     "output_type": "stream",
     "text": [
      "CPU times: user 2 µs, sys: 1e+03 ns, total: 3 µs\n",
      "Wall time: 5.25 µs\n",
      "[0, 1, 4, 9, 16, 25, 36, 49, 64, 81]\n"
     ]
    }
   ],
   "source": [
    "%%timeit\n",
    "squares = list()\n",
    "for i in range(10):\n",
    "    squares.append(i**2)\n",
    "print(squares)"
   ]
  },
  {
   "cell_type": "markdown",
   "id": "a89148dc-29c1-4224-b311-0333b2069759",
   "metadata": {},
   "source": [
    "Both codes output the same result\n",
    "\n",
    "ServerApp.iopub_data_rate_limit=1000000.0 (bytes/sec)\n",
    "ServerApp.rate_limit_window=3.0 (secs)\n",
    "vs\n",
    "4.44 µs ± 21.8 ns per loop (mean ± std. dev. of 7 runs, 100,000 loops each)\n",
    "\n",
    "first code quite literally crashed my machine while second code had a run time of 4.44 microseconds total of 700 000 runs.\n",
    "\n",
    "what is the difference between %time and %%timeit though? i can run %time for both without my machine crashing\n"
   ]
  }
 ],
 "metadata": {
  "kernelspec": {
   "display_name": "Python 3 (ipykernel)",
   "language": "python",
   "name": "python3"
  },
  "language_info": {
   "codemirror_mode": {
    "name": "ipython",
    "version": 3
   },
   "file_extension": ".py",
   "mimetype": "text/x-python",
   "name": "python",
   "nbconvert_exporter": "python",
   "pygments_lexer": "ipython3",
   "version": "3.12.3"
  },
  "toc": {
   "base_numbering": 1,
   "nav_menu": {},
   "number_sections": true,
   "sideBar": true,
   "skip_h1_title": false,
   "title_cell": "Table of Contents",
   "title_sidebar": "Contents",
   "toc_cell": false,
   "toc_position": {},
   "toc_section_display": true,
   "toc_window_display": false
  },
  "vscode": {
   "interpreter": {
    "hash": "31f2aee4e71d21fbe5cf8b01ff0e069b9275f58929596ceb00d14d90e3e16cd6"
   }
  }
 },
 "nbformat": 4,
 "nbformat_minor": 5
}
