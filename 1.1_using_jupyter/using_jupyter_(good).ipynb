{
 "cells": [
  {
   "attachments": {},
   "cell_type": "markdown",
   "id": "123456",
   "metadata": {},
   "source": [
    "<div style=\"text-align:left;font-size:2em\"><span style=\"font-weight:bolder;font-size:1.25em\">SP2273 | Learning Portfolio</span><br><br><span style=\"font-weight:bold;color:darkred\">Using Jupyter (Good)</span></div>"
   ]
  },
  {
   "attachments": {},
   "cell_type": "markdown",
   "id": "a879275e",
   "metadata": {},
   "source": [
    "# What to expect in this chapter"
   ]
  },
  {
   "attachments": {},
   "cell_type": "markdown",
   "id": "688f8f3a",
   "metadata": {},
   "source": [
    "# 1 Some tips and tricks"
   ]
  },
  {
   "attachments": {},
   "cell_type": "markdown",
   "id": "24c90ab9",
   "metadata": {},
   "source": [
    "## 1.1 Keyboard Shortcuts"
   ]
  },
  {
   "attachments": {},
   "cell_type": "markdown",
   "id": "8f0d75fd",
   "metadata": {},
   "source": [
    "### Things to note"
   ]
  },
  {
   "cell_type": "code",
   "execution_count": null,
   "id": "82bfa4fe",
   "metadata": {},
   "outputs": [],
   "source": [
    "\n",
    "# Your code here\n"
   ]
  },
  {
   "attachments": {},
   "cell_type": "markdown",
   "id": "0bc6f3bc",
   "metadata": {},
   "source": [
    "## 1.2 Shell commands"
   ]
  },
  {
   "attachments": {},
   "cell_type": "markdown",
   "id": "6431055d",
   "metadata": {},
   "source": [
    "# 2 Install Notebook 7"
   ]
  },
  {
   "attachments": {},
   "cell_type": "markdown",
   "id": "7c41e95f",
   "metadata": {},
   "source": [
    "# Jupyter Extensions"
   ]
  },
  {
   "attachments": {},
   "cell_type": "markdown",
   "id": "e83065aa",
   "metadata": {},
   "source": [
    "## Installing the extensions"
   ]
  },
  {
   "attachments": {},
   "cell_type": "markdown",
   "id": "1e1d76b5",
   "metadata": {},
   "source": [
    "## Enabling the extensions"
   ]
  },
  {
   "attachments": {},
   "cell_type": "markdown",
   "id": "93c54abc",
   "metadata": {},
   "source": [
    "# 3 Shell Magic"
   ]
  },
  {
   "attachments": {},
   "cell_type": "markdown",
   "id": "98b7757e",
   "metadata": {},
   "source": [
    "# 4 The Kernel"
   ]
  }
 ],
 "metadata": {
  "kernelspec": {
   "display_name": "Python 3 (ipykernel)",
   "language": "python",
   "name": "python3"
  },
  "language_info": {
   "codemirror_mode": {
    "name": "ipython",
    "version": 3
   },
   "file_extension": ".py",
   "mimetype": "text/x-python",
   "name": "python",
   "nbconvert_exporter": "python",
   "pygments_lexer": "ipython3",
   "version": "3.12.3"
  },
  "toc": {
   "base_numbering": 1,
   "nav_menu": {},
   "number_sections": true,
   "sideBar": true,
   "skip_h1_title": false,
   "title_cell": "Table of Contents",
   "title_sidebar": "Contents",
   "toc_cell": false,
   "toc_position": {},
   "toc_section_display": true,
   "toc_window_display": false
  },
  "vscode": {
   "interpreter": {
    "hash": "31f2aee4e71d21fbe5cf8b01ff0e069b9275f58929596ceb00d14d90e3e16cd6"
   }
  }
 },
 "nbformat": 4,
 "nbformat_minor": 5
}
