{
 "cells": [
  {
   "cell_type": "code",
   "execution_count": 2,
   "id": "52e957f5-e011-442f-a4f7-4177005bce24",
   "metadata": {},
   "outputs": [
    {
     "name": "stdout",
     "output_type": "stream",
     "text": [
      "Hello World\n"
     ]
    }
   ],
   "source": [
    "print(\"Hello World\")"
   ]
  },
  {
   "cell_type": "markdown",
   "id": "a9ab5b0d-7667-45e5-b04d-6adc93e74353",
   "metadata": {},
   "source": [
    "The ships *hung in the sky* in much the same way that **bricks don’t.**<sup>1</sup><sub>QUOTE</sub>"
   ]
  },
  {
   "cell_type": "markdown",
   "id": "6fc57383-19e9-41c7-b315-a840290cb2c5",
   "metadata": {},
   "source": [
    "[SP2273 Website](https://sps.nus.edu.sg/sp2273)"
   ]
  },
  {
   "cell_type": "markdown",
   "id": "e10dfa24-2c9b-4016-ba83-b7a454bf55ec",
   "metadata": {},
   "source": [
    "![](https://nus.edu.sg/images/default-source/base/logo.png)"
   ]
  },
  {
   "cell_type": "markdown",
   "id": "3c0354b4-4bb2-4f26-9b58-73544e1aaac7",
   "metadata": {},
   "source": [
    "1. Master Yoda\n",
    "1. Luke Skywalker\n",
    "1. Anakin Skywalker"
   ]
  },
  {
   "cell_type": "markdown",
   "id": "bf0365f4-440c-45b6-b50c-82ca46e1d8a1",
   "metadata": {},
   "source": [
    " - Master Yoda\n",
    " - Luke Skywalker\n",
    " - Anakin Skywalker"
   ]
  },
  {
   "cell_type": "markdown",
   "id": "c214f5d5-d348-4a1e-ae26-da6da713ac2d",
   "metadata": {},
   "source": [
    "1. Master Yoda\n",
    "   1. Was a Jedi\n",
    "   1. Was a bit green\n",
    "1. Luke Skywalker\n",
    "   1. Was a Jedi\n",
    "   1. Is Anakin's son.\n",
    "1. Anakin Skywalker\n",
    "   1. Was a Jedi then became a baddie\n",
    "   1. Is famous for saying 'Luke, I am your father'"
   ]
  },
  {
   "cell_type": "markdown",
   "id": "a1ab11bb-ed89-478a-b115-143ac7932258",
   "metadata": {},
   "source": [
    "$$\n",
    "x = \\dfrac{-b \\pm \\sqrt{b^2-4ac}}{2a}\n",
    "$$"
   ]
  },
  {
   "cell_type": "code",
   "execution_count": 2,
   "id": "2d164509-2ad3-42a1-8ef4-d4cc960e5bfd",
   "metadata": {},
   "outputs": [
    {
     "name": "stdout",
     "output_type": "stream",
     "text": [
      "(-4.5, -5.5)\n",
      "-4.5\n"
     ]
    }
   ],
   "source": [
    "import math\n",
    "def quad(a,b,c):\n",
    "    x = ((-b) + (0.5**((b**2)-(4*a*c))))/(2*a)\n",
    "    y = ((-b) - (0.5**((b**2)-(4*a*c))))/(2*a)\n",
    "    return x, y\n",
    "\n",
    "print(quad(1,10,25))\n",
    "print(((-10)+(0.5**((10**2)-(4*1*25))))/(2*1))\n",
    "\n",
    "\n"
   ]
  },
  {
   "cell_type": "code",
   "execution_count": null,
   "id": "e0fbc417-9e41-44d0-8499-55b2fbca2871",
   "metadata": {},
   "outputs": [],
   "source": []
  }
 ],
 "metadata": {
  "kernelspec": {
   "display_name": "Python 3 (ipykernel)",
   "language": "python",
   "name": "python3"
  },
  "language_info": {
   "codemirror_mode": {
    "name": "ipython",
    "version": 3
   },
   "file_extension": ".py",
   "mimetype": "text/x-python",
   "name": "python",
   "nbconvert_exporter": "python",
   "pygments_lexer": "ipython3",
   "version": "3.12.3"
  }
 },
 "nbformat": 4,
 "nbformat_minor": 5
}
